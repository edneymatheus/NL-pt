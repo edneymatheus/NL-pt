{
 "cells": [
  {
   "cell_type": "markdown",
   "id": "96bfa8c4",
   "metadata": {},
   "source": [
    "# NN & Backpropagation"
   ]
  },
  {
   "cell_type": "markdown",
   "id": "078ca740",
   "metadata": {},
   "source": [
    "---"
   ]
  },
  {
   "cell_type": "markdown",
   "id": "74c97e19",
   "metadata": {},
   "source": [
    "Certifique-se de instalar todos os pacotes necessários para executar o exercício antes de começar."
   ]
  },
  {
   "cell_type": "code",
   "execution_count": null,
   "id": "23a61992",
   "metadata": {},
   "outputs": [],
   "source": [
    "import tensorflow as tf\n",
    "import pandas as pd\n",
    "import numpy as np\n",
    "import matplotlib.pyplot as plt\n",
    "import seaborn as sns\n",
    "from tensorflow import keras\n",
    "from sklearn.model_selection import train_test_split\n",
    "%matplotlib inline\n",
    "tf.__version__"
   ]
  },
  {
   "cell_type": "markdown",
   "id": "8b54f856",
   "metadata": {},
   "source": [
    "## Perceptron\n",
    "O Perceptron é uma rede neural com apenas um neurônio. Neste caso, estamos utilizando a rede mais simples possível, com uma única entrada e uma única saída, sem ativação.\n",
    "\n",
    "Serão utilizados 100 dados para treinar o Perceptron ao longo de 300 épocas.\n",
    "\n",
    "O objetivo é utilizar o modelo Perceptron para aprender uma simples regressão linear, com o intuito de familiarizar-se com a sintaxe e o funcionamento do TensorFlow."
   ]
  },
  {
   "cell_type": "code",
   "execution_count": null,
   "id": "6a327d20",
   "metadata": {},
   "outputs": [],
   "source": [
    "def f1(x):\n",
    "    '''\n",
    "    Funcao a ser aprendida\n",
    "    '''\n",
    "    return 5 + 10*x"
   ]
  },
  {
   "cell_type": "code",
   "execution_count": null,
   "id": "dbf39160",
   "metadata": {},
   "outputs": [],
   "source": [
    "xs = np.linspace(0,10,100)  # gera 100 valores no intervalo [0.10]\n",
    "ys = f1(xs)                 # computa o valor de f1 nestes 100 valores\n",
    "#print(len(xs), \"xs=\", xs)\n",
    "#print(len(ys), \"ys=\", ys)"
   ]
  },
  {
   "cell_type": "code",
   "execution_count": null,
   "id": "4bc67ae0",
   "metadata": {},
   "outputs": [],
   "source": [
    "#Definindo, compilando e treinando nosso modelo\n",
    "model = tf.keras.Sequential([\n",
    "    keras.Input(shape=(1,)),\n",
    "    keras.layers.Dense(units=1),\n",
    "])\n",
    "\n",
    "model.compile(optimizer=\"sgd\", loss=\"mean_squared_error\")\n",
    "#model.fit(xs,ys,epochs=300)"
   ]
  },
  {
   "cell_type": "code",
   "execution_count": null,
   "id": "987782f0",
   "metadata": {},
   "outputs": [],
   "source": [
    "model.summary()"
   ]
  },
  {
   "cell_type": "code",
   "execution_count": null,
   "id": "1b6f179d",
   "metadata": {},
   "outputs": [],
   "source": [
    "print(\"prediction: \"+ str(model.predict([17]))+\"      real value: \" + str(f1(17)))"
   ]
  },
  {
   "cell_type": "code",
   "execution_count": 9,
   "id": "8bb2d998",
   "metadata": {},
   "outputs": [
    {
     "name": "stdout",
     "output_type": "stream",
     "text": [
      "2/2 [==============================] - 0s 3ms/step - loss: 2878.0454\n"
     ]
    },
    {
     "data": {
      "text/plain": [
       "2878.04541015625"
      ]
     },
     "execution_count": 9,
     "metadata": {},
     "output_type": "execute_result"
    }
   ],
   "source": [
    "val = np.linspace(0,10,63)\n",
    "model.evaluate(x=val, y=f1(val))"
   ]
  },
  {
   "cell_type": "markdown",
   "id": "d950c87a",
   "metadata": {},
   "source": [
    "A função evaluate retorna o \"custo\" (loss) da avaliação, definido na compilação. Nesse caso, o valor reportado é o erro quadrático médio (MSE)."
   ]
  },
  {
   "cell_type": "markdown",
   "id": "1657d124",
   "metadata": {},
   "source": [
    "## Aprendendo uma função não linear\n"
   ]
  },
  {
   "cell_type": "code",
   "execution_count": 10,
   "id": "22c7daf1",
   "metadata": {},
   "outputs": [],
   "source": [
    "def f2(x):\n",
    "    '''\n",
    "    Funcao não linear a ser aprendida\n",
    "    '''\n",
    "    return (x**2 + x*3 + 4)/200"
   ]
  },
  {
   "cell_type": "code",
   "execution_count": 11,
   "id": "9bbbbc8e",
   "metadata": {},
   "outputs": [],
   "source": [
    "x = np.linspace(0,10,100)\n",
    "y = f2(x)"
   ]
  },
  {
   "cell_type": "markdown",
   "id": "1a0a6954",
   "metadata": {},
   "source": [
    "---"
   ]
  },
  {
   "cell_type": "markdown",
   "id": "b5d49168",
   "metadata": {},
   "source": [
    "## Questões"
   ]
  },
  {
   "cell_type": "markdown",
   "id": "4257f7ff",
   "metadata": {},
   "source": [
    "---"
   ]
  },
  {
   "cell_type": "markdown",
   "id": "67011712",
   "metadata": {},
   "source": [
    "### Questão 1\n",
    "Defina as camadas para esta rede neural e treine seu modelo, note que a saída unitária não deve ter função de ativação (por que?).\n"
   ]
  },
  {
   "cell_type": "code",
   "execution_count": null,
   "id": "4f9708ad",
   "metadata": {},
   "outputs": [],
   "source": [
    "model = tf.keras.Sequential([    \n",
    "    keras.Input(shape=(1,)),\n",
    "    #Seu código aqui\n",
    "\n",
    "])\n",
    "\n",
    "model.compile(optimizer=\"adam\", loss=\"mean_squared_error\")\n",
    "model.fit(x,y,epochs=400)"
   ]
  },
  {
   "cell_type": "code",
   "execution_count": null,
   "id": "358080f4",
   "metadata": {},
   "outputs": [],
   "source": [
    "model.summary()"
   ]
  },
  {
   "cell_type": "code",
   "execution_count": null,
   "id": "c1a540f1",
   "metadata": {},
   "outputs": [],
   "source": [
    "x_val = np.linspace(0,10,63)\n",
    "y_val = f2(x_val)"
   ]
  },
  {
   "cell_type": "code",
   "execution_count": null,
   "id": "0fd112de",
   "metadata": {},
   "outputs": [],
   "source": [
    "model.evaluate(x=x_val,y=y_val)"
   ]
  },
  {
   "cell_type": "markdown",
   "id": "c12c6a4f",
   "metadata": {},
   "source": [
    "### Questão 2\n",
    "2.1 Experimente diferentes funções de ativação e descreva seus resultados, em particular a função tangente hiperbólica.\n",
    "\n",
    "2.2 Teste diferentes funções de otimização e descreva seus resultados, com foco nas funções SDG e RMSprop.\n",
    "\n",
    "2.3 Modifique a função de ativação da rede de uma camada (perceptron) de SDG para Adam e observe o que acontece.\n",
    "\n",
    "2.4 Realizamos a avaliação de desempenho apenas para pontos dentro do intervalo de treinamento, ou seja, para interpolação. Repita o teste sem modificar a rede, mas desta vez faça uma extrapolação, com pontos fora do intervalo [0;10], e descreva os resultados. Como o desempenho foi afetado?"
   ]
  },
  {
   "cell_type": "code",
   "execution_count": null,
   "id": "40951111",
   "metadata": {},
   "outputs": [],
   "source": [
    "# Seu código aqui"
   ]
  },
  {
   "cell_type": "markdown",
   "id": "0fffb256",
   "metadata": {},
   "source": [
    "### Prevendo se vai chover na Austrália\n",
    "Os próximos exercícios consistem, em grande parte, na adaptação e tradução para o português brasileiro do tutorial \"Build Your First Neural Network with Pytorch\". Entretanto, algumas alterações foram feitas no texto e no código original para usar a biblioteca TensorFlow.\n",
    "\n",
    "Aqui você aprenderá como implementar, treinar e utilizar uma Rede Neural Feed-Forward simples para uma tarefa de classificação binária. Para isso, usaremos o pacote TensorFlow 2.0, uma das principais ferramentas para implementação de modelos neurais viáveis.\n",
    "\n",
    "Para fins de exemplo, usaremos a tarefa de prever se choverá ou não em uma cidade australiana amanhã, utilizando dados meteorológicos medidos na mesma cidade no dia de hoje. Embora reduzir essa tarefa de previsão a uma classificação binária seja uma grande simplificação do problema real de previsão meteorológica, ainda assim pode fornecer resultados interessantes, além do caráter didático.\n",
    "\n",
    "Os dados que usaremos para treinar nosso modelo para a tarefa de previsão de chuvas estão contidos em um conjunto que reúne dados meteorológicos de diversas cidades australianas. Esse conjunto de dados foi curado e disponibilizado por Joe Young através do Kaggle."
   ]
  },
  {
   "cell_type": "code",
   "execution_count": 12,
   "id": "b8ec582a",
   "metadata": {},
   "outputs": [],
   "source": [
    "!mkdir data"
   ]
  },
  {
   "cell_type": "code",
   "execution_count": 13,
   "id": "f392a242",
   "metadata": {},
   "outputs": [
    {
     "name": "stderr",
     "output_type": "stream",
     "text": [
      "  % Total    % Received % Xferd  Average Speed   Time    Time     Time  Current\n",
      "                                 Dload  Upload   Total   Spent    Left  Speed\n",
      "\n",
      "  0     0    0     0    0     0      0      0 --:--:-- --:--:-- --:--:--     0Warning: Failed to open the file 'data/weatherAUS.csv': No such file or \n",
      "Warning: directory\n",
      "\n",
      "  0 13.5M    0  1371    0     0   1728      0  2:16:38 --:--:--  2:16:38  1728\n",
      "curl: (23) Failure writing output to destination\n"
     ]
    }
   ],
   "source": [
    "# Baixando os dados:\n",
    "!curl https://raw.githubusercontent.com/alan-barzilay/NLPortugues/master/Semana%2002/data/weatherAUS.csv --output 'data/weatherAUS.csv'"
   ]
  },
  {
   "cell_type": "code",
   "execution_count": null,
   "id": "0d661e56",
   "metadata": {},
   "outputs": [],
   "source": []
  },
  {
   "cell_type": "code",
   "execution_count": null,
   "id": "3a894b43",
   "metadata": {},
   "outputs": [],
   "source": []
  },
  {
   "cell_type": "code",
   "execution_count": null,
   "id": "df97ab73",
   "metadata": {},
   "outputs": [],
   "source": []
  },
  {
   "cell_type": "code",
   "execution_count": null,
   "id": "b64e1cfb",
   "metadata": {},
   "outputs": [],
   "source": []
  }
 ],
 "metadata": {
  "kernelspec": {
   "display_name": "Python 3 (ipykernel)",
   "language": "python",
   "name": "python3"
  },
  "language_info": {
   "codemirror_mode": {
    "name": "ipython",
    "version": 3
   },
   "file_extension": ".py",
   "mimetype": "text/x-python",
   "name": "python",
   "nbconvert_exporter": "python",
   "pygments_lexer": "ipython3",
   "version": "3.9.13"
  }
 },
 "nbformat": 4,
 "nbformat_minor": 5
}
