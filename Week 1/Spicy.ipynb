{
 "cells": [
  {
   "cell_type": "markdown",
   "id": "641e6d0b",
   "metadata": {},
   "source": [
    "# Biblioteca Spacy\n",
    "Spacy é uma biblioteca Python de Processamento de Linguagem Natural (PLN) de código aberto, projetada para auxiliar na construção de soluções de PLN escaláveis e eficientes."
   ]
  },
  {
   "cell_type": "markdown",
   "id": "f4734d91",
   "metadata": {},
   "source": [
    "---"
   ]
  },
  {
   "cell_type": "markdown",
   "id": "cd272f3e",
   "metadata": {},
   "source": [
    "### Instalação"
   ]
  },
  {
   "cell_type": "code",
   "execution_count": null,
   "id": "804b627b",
   "metadata": {},
   "outputs": [],
   "source": [
    "%pip install spacy -U"
   ]
  },
  {
   "cell_type": "markdown",
   "id": "d296cb6c",
   "metadata": {},
   "source": [
    "Após instalar o pacote spaCy devemos baixar as ferramentas específicas para o português com o seguinte comando:"
   ]
  },
  {
   "cell_type": "code",
   "execution_count": null,
   "id": "cff36ed1",
   "metadata": {},
   "outputs": [],
   "source": [
    "!python -m spacy download pt_core_news_sm"
   ]
  },
  {
   "cell_type": "markdown",
   "id": "0dce8b60",
   "metadata": {},
   "source": [
    "Após instalar o pacote e baixar os módulos para português, é possível utilizar o spaCy através da importação do pacote e carregamento do módulo correspondente.\n",
    "\n",
    "É importante ressaltar que, caso haja discrepâncias nos resultados obtidos, pode ser devido ao uso de versões diferentes do spaCy, que é frequentemente atualizado."
   ]
  },
  {
   "cell_type": "code",
   "execution_count": 2,
   "id": "2def555c",
   "metadata": {},
   "outputs": [],
   "source": [
    "import spacy\n",
    "import pt_core_news_sm\n",
    "spacyPT = pt_core_news_sm.load()"
   ]
  },
  {
   "cell_type": "code",
   "execution_count": 3,
   "id": "1dd5bb17",
   "metadata": {},
   "outputs": [
    {
     "data": {
      "text/plain": [
       "'3.5.2'"
      ]
     },
     "execution_count": 3,
     "metadata": {},
     "output_type": "execute_result"
    }
   ],
   "source": [
    "spacy.__version__"
   ]
  },
  {
   "cell_type": "markdown",
   "id": "bedcd57c",
   "metadata": {},
   "source": [
    "Observa-se que o spaCy presume que os caracteres estejam codificados em utf-8, logo é necessário gerar uma entrada nesse formato e submetê-la ao módulo carregado."
   ]
  },
  {
   "cell_type": "code",
   "execution_count": 4,
   "id": "f1e2333b",
   "metadata": {},
   "outputs": [
    {
     "data": {
      "text/plain": [
       "Mais vale um asno que me carregue que um cavalo que me derrube."
      ]
     },
     "execution_count": 4,
     "metadata": {},
     "output_type": "execute_result"
    }
   ],
   "source": [
    "entrada = spacyPT(\"Mais vale um asno que me carregue que um cavalo que me derrube.\")\n",
    "entrada"
   ]
  },
  {
   "cell_type": "markdown",
   "id": "aa348c03",
   "metadata": {},
   "source": [
    "### Tokenização\n",
    "A sequência de entrada gerada consiste em uma lista iterável de tokens (ou palavras). Para visualizar o texto contido nesta sequência, podemos utilizar:"
   ]
  },
  {
   "cell_type": "code",
   "execution_count": 5,
   "id": "0410953e",
   "metadata": {},
   "outputs": [
    {
     "data": {
      "text/plain": [
       "'Mais vale um asno que me carregue que um cavalo que me derrube.'"
      ]
     },
     "execution_count": 5,
     "metadata": {},
     "output_type": "execute_result"
    }
   ],
   "source": [
    "entrada.text"
   ]
  },
  {
   "cell_type": "markdown",
   "id": "810ab2a6",
   "metadata": {},
   "source": [
    "Para separar a entrada em tokens, é possível utilizar o método \"split\"."
   ]
  },
  {
   "cell_type": "code",
   "execution_count": 6,
   "id": "2350add2",
   "metadata": {},
   "outputs": [
    {
     "data": {
      "text/plain": [
       "['Mais',\n",
       " 'vale',\n",
       " 'um',\n",
       " 'asno',\n",
       " 'que',\n",
       " 'me',\n",
       " 'carregue',\n",
       " 'que',\n",
       " 'um',\n",
       " 'cavalo',\n",
       " 'que',\n",
       " 'me',\n",
       " 'derrube.']"
      ]
     },
     "execution_count": 6,
     "metadata": {},
     "output_type": "execute_result"
    }
   ],
   "source": [
    "entrada.text.split()"
   ]
  },
  {
   "cell_type": "markdown",
   "id": "a458a110",
   "metadata": {},
   "source": [
    "Observe que o ponto final foi incorporado à palavra, e o mesmo ocorreria com outros sinais de pontuação se usássemos o método split. \n",
    "\n",
    "Para separar a pontuação das palavras, podemos utilizar a tokenização implícita realizada pelo comando \"in:\"."
   ]
  },
  {
   "cell_type": "code",
   "execution_count": 7,
   "id": "9b6d44a6",
   "metadata": {},
   "outputs": [
    {
     "data": {
      "text/plain": [
       "[Mais, vale, um, asno, que, me, carregue, que, um, cavalo, que, me, derrube, .]"
      ]
     },
     "execution_count": 7,
     "metadata": {},
     "output_type": "execute_result"
    }
   ],
   "source": [
    "[token for token in entrada]"
   ]
  },
  {
   "cell_type": "markdown",
   "id": "b9ee3e57",
   "metadata": {},
   "source": [
    "Observe que os streams não estão entre aspas, uma vez que a lista contém uma sequência de objetos da classe Token. Se a intenção é obter uma lista de strings, podemos seguir o seguinte procedimento."
   ]
  },
  {
   "cell_type": "code",
   "execution_count": 9,
   "id": "42d16f13",
   "metadata": {},
   "outputs": [
    {
     "data": {
      "text/plain": [
       "['Mais',\n",
       " 'vale',\n",
       " 'um',\n",
       " 'asno',\n",
       " 'que',\n",
       " 'me',\n",
       " 'carregue',\n",
       " 'que',\n",
       " 'um',\n",
       " 'cavalo',\n",
       " 'que',\n",
       " 'me',\n",
       " 'derrube',\n",
       " '.']"
      ]
     },
     "execution_count": 9,
     "metadata": {},
     "output_type": "execute_result"
    }
   ],
   "source": [
    "[token.text for token in entrada]"
   ]
  },
  {
   "cell_type": "markdown",
   "id": "7c591ef3",
   "metadata": {},
   "source": [
    "Para remover completamente a pontuação da lista, basta limitar sua criação utilizando is_punct."
   ]
  },
  {
   "cell_type": "code",
   "execution_count": 10,
   "id": "e42da4ee",
   "metadata": {},
   "outputs": [
    {
     "data": {
      "text/plain": [
       "['Mais',\n",
       " 'vale',\n",
       " 'um',\n",
       " 'asno',\n",
       " 'que',\n",
       " 'me',\n",
       " 'carregue',\n",
       " 'que',\n",
       " 'um',\n",
       " 'cavalo',\n",
       " 'que',\n",
       " 'me',\n",
       " 'derrube']"
      ]
     },
     "execution_count": 10,
     "metadata": {},
     "output_type": "execute_result"
    }
   ],
   "source": [
    "[token.text for token in entrada if not token.is_punct]"
   ]
  },
  {
   "cell_type": "markdown",
   "id": "3d3b4b37",
   "metadata": {},
   "source": [
    "O spaCy já é pré-treinado para fazer a etiquetagem morfossintática (PoS tagging), o que pode ser evidenciado da seguinte forma."
   ]
  },
  {
   "cell_type": "code",
   "execution_count": 11,
   "id": "c7ed6753",
   "metadata": {},
   "outputs": [
    {
     "data": {
      "text/plain": [
       "[('Mais', 'ADV'),\n",
       " ('vale', 'VERB'),\n",
       " ('um', 'DET'),\n",
       " ('asno', 'NOUN'),\n",
       " ('que', 'PRON'),\n",
       " ('me', 'PRON'),\n",
       " ('carregue', 'VERB'),\n",
       " ('que', 'SCONJ'),\n",
       " ('um', 'DET'),\n",
       " ('cavalo', 'NOUN'),\n",
       " ('que', 'PRON'),\n",
       " ('me', 'PRON'),\n",
       " ('derrube', 'VERB'),\n",
       " ('.', 'PUNCT')]"
      ]
     },
     "execution_count": 11,
     "metadata": {},
     "output_type": "execute_result"
    }
   ],
   "source": [
    "[(token.text, token.pos_) for token in entrada]"
   ]
  },
  {
   "cell_type": "markdown",
   "id": "571f49fc",
   "metadata": {},
   "source": [
    "A ajuda do etiquetador nos permite realizar buscas bastante avançadas, como a busca pelos lemas de todos os verbos presentes na sentença."
   ]
  },
  {
   "cell_type": "code",
   "execution_count": 12,
   "id": "ff6ae383",
   "metadata": {},
   "outputs": [
    {
     "data": {
      "text/plain": [
       "['valer', 'carregar', 'derrube']"
      ]
     },
     "execution_count": 12,
     "metadata": {},
     "output_type": "execute_result"
    }
   ],
   "source": [
    "[token.lemma_ for token in entrada if token.pos_ == 'VERB']"
   ]
  },
  {
   "cell_type": "markdown",
   "id": "7b84ae9b",
   "metadata": {},
   "source": [
    "Os lemas de verbos conjugados nos fornecem a sua forma infinitiva."
   ]
  },
  {
   "cell_type": "markdown",
   "id": "83d7a599",
   "metadata": {},
   "source": [
    "### Reconhecimento de entidades nomeadas\n",
    "A biblioteca vem pré-treinada com um recurso que possibilita a identificação de entidades nomeadas."
   ]
  },
  {
   "cell_type": "code",
   "execution_count": 13,
   "id": "ba5afedf",
   "metadata": {},
   "outputs": [
    {
     "name": "stdout",
     "output_type": "stream",
     "text": [
      "(CBF, Comitê de Apelações da FIFA, Neymar, Copa América, Conmebol)\n"
     ]
    },
    {
     "data": {
      "text/plain": [
       "[(CBF, 'ORG'),\n",
       " (Comitê de Apelações da FIFA, 'ORG'),\n",
       " (Neymar, 'PER'),\n",
       " (Copa América, 'MISC'),\n",
       " (Conmebol, 'ORG')]"
      ]
     },
     "execution_count": 13,
     "metadata": {},
     "output_type": "execute_result"
    }
   ],
   "source": [
    "texto2 = spacyPT(\"A CBF fez um pedido de análise ao Comitê de Apelações da FIFA a fim de diminuir a pena do atacante Neymar, suspenso da Copa América pela Conmebol.\")\n",
    "print(texto2.ents)\n",
    "[(entidade,entidade.label_) for entidade in texto2.ents]"
   ]
  },
  {
   "cell_type": "markdown",
   "id": "72d42a1d",
   "metadata": {},
   "source": [
    "---"
   ]
  },
  {
   "cell_type": "markdown",
   "id": "a9e81a5e",
   "metadata": {},
   "source": [
    "## Questões"
   ]
  },
  {
   "cell_type": "markdown",
   "id": "df6b67b7",
   "metadata": {},
   "source": [
    "---"
   ]
  },
  {
   "cell_type": "markdown",
   "id": "f515683d",
   "metadata": {},
   "source": [
    "### Questão 1\n",
    "Utilizando o spacy, extraia o nome dos personagens presentes no terceiro capitulo da obra \"Mémorias postumas de Brás Cubas\" de Machado de Assis."
   ]
  },
  {
   "cell_type": "code",
   "execution_count": 14,
   "id": "0e587f61",
   "metadata": {},
   "outputs": [
    {
     "data": {
      "text/plain": [
       "'Mas, já que falei nos meus dois tios, deixem-me fazer aqui um curto esboço genealógico.        O fundador de minha família foi um certo Damião Cubas, que floresceu na primeira metade do século XVIII. Era tanoeiro de ofício, natural do Rio de Janeiro, onde teria morrido na penúria e na obscuridade, se somente exercesse a tanoaria. Mas não; fez-se lavrador, plantou, colheu, permutou o seu produto por boas e honradas patacas, até que morreu, deixando grosso cabedal a um filho, o licenciado Luís Cubas. Neste rapaz é que verdadeiramente começa a série de meus avós -- dos avós que a minha família sempre confessou -  porque o Damião Cubas era afinal de contas um tanoeiro, e talvez mau tanoeiro, ao passo que o Luís Cubas estudou em Coimbra, primou no Estado, e foi um dos amigos particulares do vice-rei conde da Cunha.        Como este apelido de Cubas lhe cheirasse excessivamente a tanoaria, alegava meu pai, bisneto do Damião, que o dito apelido fora dado a um cavaleiro, herói nas jornadas da Africa, em prêmio da façanha que praticou arrebatando trezentas cubas ao mouros. Meu pai era homem de imaginação; escapou à tanoaria nas asas de um calembour. Era um bom caráter, meu pai, varão digno e leal como poucos. Tinha, é verdade, uns fumos de pacholice; mas quem não é um pouco pachola nesse mundo? Releva notar que ele não recorreu à inventiva senão depois de experimentar a falsificação; primeiramente, entroncou-se na família daquele meu famoso homônimo, o capitão-mor Brás Cubas, que fundou a vila de São Vicente, onde morreu em 1592, e por esse motivo é que me deu o nome de Brás. Opôs-se-lhe, porém, a família do capitão-mor, e foi então que ele imaginou as trezentas cubas mouriscas.        Vivem ainda alguns membros de minha família, minha sobrinha Venância, por exemplo, o lírio-do-vale, que é a flor das damas do seu tempo; vive o pai, o Cotrim, um sujeito que... Mas não antecipemos os sucessos; acabemos de uma vez com o nosso emplasto. '"
      ]
     },
     "execution_count": 14,
     "metadata": {},
     "output_type": "execute_result"
    }
   ],
   "source": [
    "cap_3_bras_cubas = \"Mas, já que falei nos meus dois tios, deixem-me fazer aqui um curto esboço genealógico.        O fundador de minha família foi um certo Damião Cubas, que floresceu na primeira metade do século XVIII. Era tanoeiro de ofício, natural do Rio de Janeiro, onde teria morrido na penúria e na obscuridade, se somente exercesse a tanoaria. Mas não; fez-se lavrador, plantou, colheu, permutou o seu produto por boas e honradas patacas, até que morreu, deixando grosso cabedal a um filho, o licenciado Luís Cubas. Neste rapaz é que verdadeiramente começa a série de meus avós -- dos avós que a minha família sempre confessou -  porque o Damião Cubas era afinal de contas um tanoeiro, e talvez mau tanoeiro, ao passo que o Luís Cubas estudou em Coimbra, primou no Estado, e foi um dos amigos particulares do vice-rei conde da Cunha.        Como este apelido de Cubas lhe cheirasse excessivamente a tanoaria, alegava meu pai, bisneto do Damião, que o dito apelido fora dado a um cavaleiro, herói nas jornadas da Africa, em prêmio da façanha que praticou arrebatando trezentas cubas ao mouros. Meu pai era homem de imaginação; escapou à tanoaria nas asas de um calembour. Era um bom caráter, meu pai, varão digno e leal como poucos. Tinha, é verdade, uns fumos de pacholice; mas quem não é um pouco pachola nesse mundo? Releva notar que ele não recorreu à inventiva senão depois de experimentar a falsificação; primeiramente, entroncou-se na família daquele meu famoso homônimo, o capitão-mor Brás Cubas, que fundou a vila de São Vicente, onde morreu em 1592, e por esse motivo é que me deu o nome de Brás. Opôs-se-lhe, porém, a família do capitão-mor, e foi então que ele imaginou as trezentas cubas mouriscas.        Vivem ainda alguns membros de minha família, minha sobrinha Venância, por exemplo, o lírio-do-vale, que é a flor das damas do seu tempo; vive o pai, o Cotrim, um sujeito que... Mas não antecipemos os sucessos; acabemos de uma vez com o nosso emplasto. \"\n",
    "cap_3_bras_cubas"
   ]
  },
  {
   "cell_type": "code",
   "execution_count": 15,
   "id": "d9ddf369",
   "metadata": {},
   "outputs": [],
   "source": [
    "#Seu código aqui"
   ]
  },
  {
   "cell_type": "markdown",
   "id": "dff7ab10",
   "metadata": {},
   "source": [
    "Quais destas repostas estão corretas? Quais personagens estão faltando?"
   ]
  },
  {
   "cell_type": "markdown",
   "id": "dea15eac",
   "metadata": {},
   "source": [
    "### Questão 2\n",
    "Extraia todos os pronomes deste capitulo."
   ]
  },
  {
   "cell_type": "code",
   "execution_count": 16,
   "id": "f829e188",
   "metadata": {},
   "outputs": [],
   "source": [
    "#Seu código aqui"
   ]
  },
  {
   "cell_type": "markdown",
   "id": "85b945fe",
   "metadata": {},
   "source": [
    "### Questão 3\n",
    "Acesse os visualizadores do Spacy para explorar o mapa de dependências de uma frase à sua escolha deste capítulo. \n",
    "\n",
    "Utilize o gerador \"sents\" para acessar diretamente uma frase específica, como exemplificado em: https://spacy.io/usage/visualizers."
   ]
  },
  {
   "cell_type": "code",
   "execution_count": 19,
   "id": "e7afccc3",
   "metadata": {},
   "outputs": [
    {
     "data": {
      "text/plain": [
       "Era tanoeiro de ofício, natural do Rio de Janeiro, onde teria morrido na penúria e na obscuridade, se somente exercesse a tanoaria."
      ]
     },
     "execution_count": 19,
     "metadata": {},
     "output_type": "execute_result"
    }
   ],
   "source": [
    "nlp = spacy.load(\"pt_core_news_sm\")\n",
    "doc = nlp(cap_3_bras_cubas)\n",
    "frases = [frase for frase in doc.sents]\n",
    "frases[2]"
   ]
  },
  {
   "cell_type": "code",
   "execution_count": 21,
   "id": "706215a2",
   "metadata": {},
   "outputs": [],
   "source": [
    "from spacy import displacy\n",
    "#Seu código aqui"
   ]
  },
  {
   "cell_type": "markdown",
   "id": "8f72fb7d",
   "metadata": {},
   "source": [
    "---"
   ]
  },
  {
   "cell_type": "markdown",
   "id": "6242ce17",
   "metadata": {},
   "source": [
    "### Fontes\n",
    "Tanto o capítulo usado nesta aula quanto a obra completa estão disponíveis no domínio público e podem ser baixados em http://www.dominiopublico.gov.br/download/texto/bv000215.pdf."
   ]
  },
  {
   "cell_type": "markdown",
   "id": "3b60c5c7",
   "metadata": {},
   "source": [
    "---"
   ]
  },
  {
   "cell_type": "markdown",
   "id": "9edf7896",
   "metadata": {},
   "source": [
    "## Resoluções\n"
   ]
  },
  {
   "cell_type": "markdown",
   "id": "ba42fa0f",
   "metadata": {},
   "source": [
    "### Questão 1"
   ]
  },
  {
   "cell_type": "code",
   "execution_count": 26,
   "id": "3e3e5825",
   "metadata": {},
   "outputs": [
    {
     "name": "stdout",
     "output_type": "stream",
     "text": [
      "Damião Cubas\n",
      "Luís Cubas\n",
      "Damião Cubas\n",
      "Luís Cubas\n",
      "conde da Cunha\n",
      "Damião\n",
      "Brás Cubas\n"
     ]
    }
   ],
   "source": [
    "# Importe a biblioteca Spacy e carregue o modelo de idioma em português:\n",
    "import spacy\n",
    "nlp = spacy.load('pt_core_news_sm')\n",
    "# Crie um objeto 'doc' contendo o texto do terceiro capítulo:\n",
    "doc = nlp(cap_3_bras_cubas)\n",
    "# Percorra cada entidade nomeada (Named Entity) do objeto doc e, caso a categoria (label) seja \"PER\" (para pessoa), imprima o texto da entidade:\n",
    "for entidade in doc.ents:\n",
    "    if entidade.label_ == 'PER':\n",
    "        print(entidade.text)"
   ]
  },
  {
   "cell_type": "markdown",
   "id": "982c31ea",
   "metadata": {},
   "source": [
    "### Questão 2"
   ]
  },
  {
   "cell_type": "code",
   "execution_count": 27,
   "id": "97707b0f",
   "metadata": {},
   "outputs": [
    {
     "name": "stdout",
     "output_type": "stream",
     "text": [
      "que\n",
      "onde\n",
      "que\n",
      "lhe\n",
      "que\n",
      "que\n",
      "quem\n",
      "ele\n",
      "que\n",
      "onde\n",
      "me\n",
      "ele\n",
      "que\n",
      "que\n"
     ]
    }
   ],
   "source": [
    "# Importe a biblioteca Spacy e carregue o modelo de idioma em português:\n",
    "import spacy\n",
    "nlp = spacy.load('pt_core_news_sm')\n",
    "# Crie um objeto 'doc' contendo o texto do terceiro capítulo:\n",
    "doc = nlp(cap_3_bras_cubas)\n",
    "# Percorra cada token do objeto doc e, caso a categoria gramatical (pos) seja \"PRON\" (para pronome), imprima o texto do token:\n",
    "for token in doc:\n",
    "    if token.pos_ == 'PRON':\n",
    "        print(token.text)"
   ]
  },
  {
   "cell_type": "markdown",
   "id": "a94023f1",
   "metadata": {},
   "source": [
    "### Questão 3"
   ]
  },
  {
   "cell_type": "code",
   "execution_count": 25,
   "id": "7693afdc",
   "metadata": {},
   "outputs": [
    {
     "data": {
      "text/html": [
       "<span class=\"tex2jax_ignore\"><svg xmlns=\"http://www.w3.org/2000/svg\" xmlns:xlink=\"http://www.w3.org/1999/xlink\" xml:lang=\"pt\" id=\"5895118fc49a423d8e217799170449d2-0\" class=\"displacy\" width=\"650\" height=\"212.0\" direction=\"ltr\" style=\"max-width: none; height: 212.0px; color: #000000; background: #ffffff; font-family: Arial; direction: ltr\">\n",
       "<text class=\"displacy-token\" fill=\"currentColor\" text-anchor=\"middle\" y=\"122.0\">\n",
       "    <tspan class=\"displacy-word\" fill=\"currentColor\" x=\"50\">Eu</tspan>\n",
       "    <tspan class=\"displacy-tag\" dy=\"2em\" fill=\"currentColor\" x=\"50\">PRON</tspan>\n",
       "</text>\n",
       "\n",
       "<text class=\"displacy-token\" fill=\"currentColor\" text-anchor=\"middle\" y=\"122.0\">\n",
       "    <tspan class=\"displacy-word\" fill=\"currentColor\" x=\"200\">amo</tspan>\n",
       "    <tspan class=\"displacy-tag\" dy=\"2em\" fill=\"currentColor\" x=\"200\">NOUN</tspan>\n",
       "</text>\n",
       "\n",
       "<text class=\"displacy-token\" fill=\"currentColor\" text-anchor=\"middle\" y=\"122.0\">\n",
       "    <tspan class=\"displacy-word\" fill=\"currentColor\" x=\"350\">gatos</tspan>\n",
       "    <tspan class=\"displacy-tag\" dy=\"2em\" fill=\"currentColor\" x=\"350\">ADJ</tspan>\n",
       "</text>\n",
       "\n",
       "<text class=\"displacy-token\" fill=\"currentColor\" text-anchor=\"middle\" y=\"122.0\">\n",
       "    <tspan class=\"displacy-word\" fill=\"currentColor\" x=\"500\">gordinhos.</tspan>\n",
       "    <tspan class=\"displacy-tag\" dy=\"2em\" fill=\"currentColor\" x=\"500\">ADJ</tspan>\n",
       "</text>\n",
       "\n",
       "<g class=\"displacy-arrow\">\n",
       "    <path class=\"displacy-arc\" id=\"arrow-5895118fc49a423d8e217799170449d2-0-0\" stroke-width=\"2px\" d=\"M62,77.0 62,52.0 200.0,52.0 200.0,77.0\" fill=\"none\" stroke=\"currentColor\"/>\n",
       "    <text dy=\"1.25em\" style=\"font-size: 0.8em; letter-spacing: 1px\">\n",
       "        <textPath xlink:href=\"#arrow-5895118fc49a423d8e217799170449d2-0-0\" class=\"displacy-label\" startOffset=\"50%\" side=\"left\" fill=\"currentColor\" text-anchor=\"middle\">nsubj</textPath>\n",
       "    </text>\n",
       "    <path class=\"displacy-arrowhead\" d=\"M62,79.0 L58,71.0 66,71.0\" fill=\"currentColor\"/>\n",
       "</g>\n",
       "\n",
       "<g class=\"displacy-arrow\">\n",
       "    <path class=\"displacy-arc\" id=\"arrow-5895118fc49a423d8e217799170449d2-0-1\" stroke-width=\"2px\" d=\"M212,77.0 212,52.0 350.0,52.0 350.0,77.0\" fill=\"none\" stroke=\"currentColor\"/>\n",
       "    <text dy=\"1.25em\" style=\"font-size: 0.8em; letter-spacing: 1px\">\n",
       "        <textPath xlink:href=\"#arrow-5895118fc49a423d8e217799170449d2-0-1\" class=\"displacy-label\" startOffset=\"50%\" side=\"left\" fill=\"currentColor\" text-anchor=\"middle\">obj</textPath>\n",
       "    </text>\n",
       "    <path class=\"displacy-arrowhead\" d=\"M350.0,79.0 L354.0,71.0 346.0,71.0\" fill=\"currentColor\"/>\n",
       "</g>\n",
       "\n",
       "<g class=\"displacy-arrow\">\n",
       "    <path class=\"displacy-arc\" id=\"arrow-5895118fc49a423d8e217799170449d2-0-2\" stroke-width=\"2px\" d=\"M362,77.0 362,52.0 500.0,52.0 500.0,77.0\" fill=\"none\" stroke=\"currentColor\"/>\n",
       "    <text dy=\"1.25em\" style=\"font-size: 0.8em; letter-spacing: 1px\">\n",
       "        <textPath xlink:href=\"#arrow-5895118fc49a423d8e217799170449d2-0-2\" class=\"displacy-label\" startOffset=\"50%\" side=\"left\" fill=\"currentColor\" text-anchor=\"middle\">amod</textPath>\n",
       "    </text>\n",
       "    <path class=\"displacy-arrowhead\" d=\"M500.0,79.0 L504.0,71.0 496.0,71.0\" fill=\"currentColor\"/>\n",
       "</g>\n",
       "</svg></span>"
      ],
      "text/plain": [
       "<IPython.core.display.HTML object>"
      ]
     },
     "metadata": {},
     "output_type": "display_data"
    }
   ],
   "source": [
    "import spacy\n",
    "from spacy import displacy\n",
    "\n",
    "# 1. Carregar o modelo do spaCy para a língua portuguesa\n",
    "nlp = spacy.load(\"pt_core_news_sm\")\n",
    "\n",
    "# 2. Escolher uma frase do capítulo que você queira analisar e atribuí-la a uma variável\n",
    "frase = \"Eu amo gatos gordinhos.\"\n",
    "\n",
    "# 3. Transformar a frase em um objeto Doc do spaCy usando o modelo carregado\n",
    "doc = nlp(frase)\n",
    "\n",
    "# 4. Visualizar o mapa de dependências da frase usando o visualizador de dependências do spaCy\n",
    "displacy.render(doc, style=\"dep\", options={\"compact\": True})\n"
   ]
  },
  {
   "cell_type": "markdown",
   "id": "e3c052c7",
   "metadata": {},
   "source": [
    "---"
   ]
  }
 ],
 "metadata": {
  "kernelspec": {
   "display_name": "Python 3 (ipykernel)",
   "language": "python",
   "name": "python3"
  },
  "language_info": {
   "codemirror_mode": {
    "name": "ipython",
    "version": 3
   },
   "file_extension": ".py",
   "mimetype": "text/x-python",
   "name": "python",
   "nbconvert_exporter": "python",
   "pygments_lexer": "ipython3",
   "version": "3.9.13"
  }
 },
 "nbformat": 4,
 "nbformat_minor": 5
}
